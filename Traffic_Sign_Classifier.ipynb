{
 "cells": [
  {
   "cell_type": "markdown",
   "metadata": {},
   "source": [
    "# Self-Driving Car Engineer Nanodegree\n",
    "\n",
    "## Deep Learning\n",
    "\n",
    "## Project: Build a Traffic Sign Recognition Classifier\n",
    "\n",
    "In this notebook, a template is provided for you to implement your functionality in stages which is required to successfully complete this project. If additional code is required that cannot be included in the notebook, be sure that the Python code is successfully imported and included in your submission, if necessary. Sections that begin with **'Implementation'** in the header indicate where you should begin your implementation for your project. Note that some sections of implementation are optional, and will be marked with **'Optional'** in the header.\n",
    "\n",
    "In addition to implementing code, there will be questions that you must answer which relate to the project and your implementation. Each section where you will answer a question is preceded by a **'Question'** header. Carefully read each question and provide thorough answers in the following text boxes that begin with **'Answer:'**. Your project submission will be evaluated based on your answers to each of the questions and the implementation you provide.\n",
    "\n",
    ">**Note:** Code and Markdown cells can be executed using the **Shift + Enter** keyboard shortcut. In addition, Markdown cells can be edited by typically double-clicking the cell to enter edit mode."
   ]
  },
  {
   "cell_type": "markdown",
   "metadata": {},
   "source": [
    "---\n",
    "## Step 0: Load The Data"
   ]
  },
  {
   "cell_type": "code",
   "execution_count": 1,
   "metadata": {
    "collapsed": true
   },
   "outputs": [],
   "source": [
    "# Load pickled data\n",
    "import pickle\n",
    "\n",
    "# DONE: Fill this in based on where you saved the training and testing data\n",
    "\n",
    "training_file = 'traffic-signs-data/train.p'\n",
    "testing_file = 'traffic-signs-data/test.p'\n",
    "\n",
    "with open(training_file, mode='rb') as f:\n",
    "    train = pickle.load(f)\n",
    "with open(testing_file, mode='rb') as f:\n",
    "    test = pickle.load(f)\n",
    "    \n",
    "X_train, y_train = train['features'], train['labels']\n",
    "X_test, y_test = test['features'], test['labels']"
   ]
  },
  {
   "cell_type": "code",
   "execution_count": 2,
   "metadata": {
    "collapsed": false
   },
   "outputs": [],
   "source": [
    "import numpy as np\n",
    "import cv2\n",
    "import matplotlib.pyplot as plt\n",
    "# Visualizations will be shown in the notebook.\n",
    "%matplotlib inline"
   ]
  },
  {
   "cell_type": "markdown",
   "metadata": {},
   "source": [
    "---\n",
    "\n",
    "## Step 1: Dataset Summary & Exploration\n",
    "\n",
    "The pickled data is a dictionary with 4 key/value pairs:\n",
    "\n",
    "- `'features'` is a 4D array containing raw pixel data of the traffic sign images, (num examples, width, height, channels).\n",
    "- `'labels'` is a 2D array containing the label/class id of the traffic sign. The file `signnames.csv` contains id -> name mappings for each id.\n",
    "- `'sizes'` is a list containing tuples, (width, height) representing the the original width and height the image.\n",
    "- `'coords'` is a list containing tuples, (x1, y1, x2, y2) representing coordinates of a bounding box around the sign in the image. **THESE COORDINATES ASSUME THE ORIGINAL IMAGE. THE PICKLED DATA CONTAINS RESIZED VERSIONS (32 by 32) OF THESE IMAGES**\n",
    "\n",
    "Complete the basic data summary below."
   ]
  },
  {
   "cell_type": "code",
   "execution_count": 3,
   "metadata": {
    "collapsed": false
   },
   "outputs": [
    {
     "name": "stdout",
     "output_type": "stream",
     "text": [
      "Number of training examples = 39209\n",
      "Number of testing examples = 12630\n",
      "Image data shape = (32, 32, 3)\n",
      "Number of classes = 43\n"
     ]
    }
   ],
   "source": [
    "### Replace each question mark with the appropriate value.\n",
    "\n",
    "# DONE: Number of training examples\n",
    "n_train = X_train.shape[0]\n",
    "\n",
    "# DONE: Number of testing examples.\n",
    "n_test = X_test.shape[0]\n",
    "\n",
    "# DONE: What's the shape of an traffic sign image?\n",
    "image_shape = X_train[0, :, :, :].shape\n",
    "\n",
    "# DONE: How many unique classes/labels there are in the dataset.\n",
    "n_classes = np.unique(y_train).shape[0]\n",
    "\n",
    "print(\"Number of training examples =\", n_train)\n",
    "print(\"Number of testing examples =\", n_test)\n",
    "print(\"Image data shape =\", image_shape)\n",
    "print(\"Number of classes =\", n_classes)"
   ]
  },
  {
   "cell_type": "markdown",
   "metadata": {},
   "source": [
    "Visualize the German Traffic Signs Dataset using the pickled file(s). This is open ended, suggestions include: plotting traffic sign images, plotting the count of each sign, etc.\n",
    "\n",
    "The [Matplotlib](http://matplotlib.org/) [examples](http://matplotlib.org/examples/index.html) and [gallery](http://matplotlib.org/gallery.html) pages are a great resource for doing visualizations in Python.\n",
    "\n",
    "**NOTE:** It's recommended you start with something simple first. If you wish to do more, come back to it after you've completed the rest of the sections."
   ]
  },
  {
   "cell_type": "code",
   "execution_count": 1,
   "metadata": {
    "collapsed": false
   },
   "outputs": [
    {
     "ename": "NameError",
     "evalue": "name 'n_train' is not defined",
     "output_type": "error",
     "traceback": [
      "\u001b[0;31m---------------------------------------------------------------------------\u001b[0m",
      "\u001b[0;31mNameError\u001b[0m                                 Traceback (most recent call last)",
      "\u001b[0;32m<ipython-input-1-d5a52f290117>\u001b[0m in \u001b[0;36m<module>\u001b[0;34m()\u001b[0m\n\u001b[1;32m      5\u001b[0m \u001b[0mget_ipython\u001b[0m\u001b[1;33m(\u001b[0m\u001b[1;33m)\u001b[0m\u001b[1;33m.\u001b[0m\u001b[0mmagic\u001b[0m\u001b[1;33m(\u001b[0m\u001b[1;34m'matplotlib inline'\u001b[0m\u001b[1;33m)\u001b[0m\u001b[1;33m\u001b[0m\u001b[0m\n\u001b[1;32m      6\u001b[0m \u001b[1;33m\u001b[0m\u001b[0m\n\u001b[0;32m----> 7\u001b[0;31m \u001b[0mmin_count\u001b[0m \u001b[1;33m=\u001b[0m \u001b[0mn_train\u001b[0m\u001b[1;33m\u001b[0m\u001b[0m\n\u001b[0m\u001b[1;32m      8\u001b[0m \u001b[0mmax_count\u001b[0m \u001b[1;33m=\u001b[0m \u001b[1;36m0\u001b[0m\u001b[1;33m\u001b[0m\u001b[0m\n\u001b[1;32m      9\u001b[0m \u001b[1;33m\u001b[0m\u001b[0m\n",
      "\u001b[0;31mNameError\u001b[0m: name 'n_train' is not defined"
     ]
    }
   ],
   "source": [
    "### Data exploration visualization goes here.\n",
    "### Feel free to use as many code cells as needed.\n",
    "import matplotlib.pyplot as plt\n",
    "# Visualizations will be shown in the notebook.\n",
    "%matplotlib inline\n",
    "\n",
    "min_count = n_train\n",
    "max_count = 0\n",
    "\n",
    "for label in np.unique(y_train):\n",
    "    count = y_train[y_train == label].shape[0]\n",
    "    if count < min_count:\n",
    "        min_count = count\n",
    "    if count > max_count:\n",
    "        max_count = count\n",
    "print(min_count, max_count)\n",
    "\n",
    "plt.imshow(X_train[6511, :, :, :])\n",
    "\n",
    "img = cv2.cvtColor(X_train[6511, :, :, :], cv2.COLOR_RGB2HSV)\n",
    "\n",
    "plt.figure()\n",
    "plt.imshow(img[:, :, 2], cmap='gray')\n",
    "\n",
    "img = img[:, :, 2]\n",
    "\n",
    "rows,cols = img.shape\n",
    "M = cv2.getRotationMatrix2D((cols/2,rows/2),15,1.2)\n",
    "dst = cv2.warpAffine(img,M,(cols,rows))\n",
    "\n",
    "plt.figure()\n",
    "plt.imshow(dst, cmap='gray')\n",
    "\n",
    "gamma = 0.4\n",
    "img = img/255.\n",
    "img_g = img**(1./gamma)\n",
    "\n",
    "plt.figure()\n",
    "plt.imshow(img_g, cmap='gray')\n",
    "\n",
    "#mu = 0\n",
    "#sigma = 0.02\n",
    "#noise = np.random.randn(32, 32)*sigma + mu\n",
    "#img_n = img + noise\n",
    "img_g = img**(gamma/10.)\n",
    "\n",
    "plt.figure()\n",
    "plt.imshow(img_g, cmap='gray')"
   ]
  },
  {
   "cell_type": "markdown",
   "metadata": {},
   "source": [
    "# ----\n",
    "\n",
    "## Step 2: Design and Test a Model Architecture\n",
    "\n",
    "Design and implement a deep learning model that learns to recognize traffic signs. Train and test your model on the [German Traffic Sign Dataset](http://benchmark.ini.rub.de/?section=gtsrb&subsection=dataset).\n",
    "\n",
    "There are various aspects to consider when thinking about this problem:\n",
    "\n",
    "- Neural network architecture\n",
    "- Play around preprocessing techniques (normalization, rgb to grayscale, etc)\n",
    "- Number of examples per label (some have more than others).\n",
    "- Generate fake data.\n",
    "\n",
    "Here is an example of a [published baseline model on this problem](http://yann.lecun.com/exdb/publis/pdf/sermanet-ijcnn-11.pdf). It's not required to be familiar with the approach used in the paper but, it's good practice to try to read papers like these.\n",
    "\n",
    "**NOTE:** The LeNet-5 implementation shown in the [classroom](https://classroom.udacity.com/nanodegrees/nd013/parts/fbf77062-5703-404e-b60c-95b78b2f3f9e/modules/6df7ae49-c61c-4bb2-a23e-6527e69209ec/lessons/601ae704-1035-4287-8b11-e2c2716217ad/concepts/d4aca031-508f-4e0b-b493-e7b706120f81) at the end of the CNN lesson is a solid starting point. You'll have to change the number of classes and possibly the preprocessing, but aside from that it's plug and play!"
   ]
  },
  {
   "cell_type": "markdown",
   "metadata": {},
   "source": [
    "### Implementation\n",
    "\n",
    "Use the code cell (or multiple code cells, if necessary) to implement the first step of your project. Once you have completed your implementation and are satisfied with the results, be sure to thoroughly answer the questions that follow."
   ]
  },
  {
   "cell_type": "code",
   "execution_count": 5,
   "metadata": {
    "collapsed": false
   },
   "outputs": [],
   "source": [
    "### Preprocess the data here.\n",
    "### Feel free to use as many code cells as needed.\n",
    "def preprocess(data):\n",
    "    prep_data = np.ndarray(data.shape[0:3])\n",
    "    for n in range(data.shape[0]):\n",
    "        prep_data[n, :, :] = cv2.cvtColor(data[n, :, :, :], cv2.COLOR_RGB2HSV)[:, :, 2]\n",
    "    prep_data = prep_data/255.\n",
    "    return prep_data"
   ]
  },
  {
   "cell_type": "markdown",
   "metadata": {},
   "source": [
    "### Question 1 \n",
    "\n",
    "_Describe how you preprocessed the data. Why did you choose that technique?_"
   ]
  },
  {
   "cell_type": "markdown",
   "metadata": {},
   "source": [
    "**Answer:**"
   ]
  },
  {
   "cell_type": "code",
   "execution_count": 6,
   "metadata": {
    "collapsed": true
   },
   "outputs": [],
   "source": [
    "def augment_and_pickle(dataset, label):\n",
    "    _,rows,cols = dataset.shape\n",
    "    \n",
    "    # Rotate +15 degrees:\n",
    "    pos_rot_dataset = np.zeros_like(dataset)\n",
    "    M = cv2.getRotationMatrix2D((cols/2,rows/2),15,1.2)\n",
    "    for i in range(dataset.shape[0]):\n",
    "        img = dataset[i, :, :]\n",
    "        pos_rot_dataset[i, :, :] = cv2.warpAffine(img,M,(cols,rows))\n",
    "\n",
    "    # Rotate -15 degrees:\n",
    "    neg_rot_dataset = np.zeros_like(dataset)\n",
    "    M = cv2.getRotationMatrix2D((cols/2,rows/2),-15,1.2)\n",
    "    for i in range(dataset.shape[0]):\n",
    "        img = dataset[i, :, :]\n",
    "        neg_rot_dataset[i, :, :] = cv2.warpAffine(img,M,(cols,rows))\n",
    "\n",
    "    dataset = np.concatenate((dataset, pos_rot_dataset, neg_rot_dataset))\n",
    "\n",
    "    # Gamma compression and expanssion:\n",
    "    gamma = 0.04\n",
    "    comp_gamma_dataset = dataset**(gamma)\n",
    "    gamma = 2.5\n",
    "    exp_gamma_dataset = dataset**(gamma)\n",
    "\n",
    "    dataset = np.concatenate((dataset, comp_gamma_dataset, exp_gamma_dataset))\n",
    "    dataset_label = np.zeros((dataset.shape[0])) + label\n",
    "    \n",
    "    pickle_file = 'label' + str(label) + '.pickle'\n",
    "\n",
    "    try:\n",
    "        f = open(pickle_file, 'wb')\n",
    "        save = {\n",
    "            'dataset': dataset,\n",
    "            'dataset_label': dataset_label,\n",
    "        }\n",
    "        pickle.dump(save, f, pickle.HIGHEST_PROTOCOL)\n",
    "        f.close()\n",
    "    except Exception as e:\n",
    "        print('Unable to save data to', pickle_file, ':', e)\n",
    "        raise"
   ]
  },
  {
   "cell_type": "code",
   "execution_count": 7,
   "metadata": {
    "collapsed": false
   },
   "outputs": [
    {
     "name": "stdout",
     "output_type": "stream",
     "text": [
      "Pickling...\n",
      "\n",
      "0\n",
      "1\n",
      "2\n",
      "3\n",
      "4\n",
      "5\n",
      "6\n",
      "7\n",
      "8\n",
      "9\n",
      "10\n",
      "11\n",
      "12\n",
      "13\n",
      "14\n",
      "15\n",
      "16\n",
      "17\n",
      "18\n",
      "19\n",
      "20\n",
      "21\n",
      "22\n",
      "23\n",
      "24\n",
      "25\n",
      "26\n",
      "27\n",
      "28\n",
      "29\n",
      "30\n",
      "31\n",
      "32\n",
      "33\n",
      "34\n",
      "35\n",
      "36\n",
      "37\n",
      "38\n",
      "39\n",
      "40\n",
      "41\n",
      "42\n"
     ]
    }
   ],
   "source": [
    "break\n",
    "X_train = preprocess(X_train)\n",
    "\n",
    "print('Pickling...')\n",
    "print()\n",
    "\n",
    "for label in np.unique(y_train):\n",
    "    print(label)\n",
    "    augment_and_pickle(X_train[y_train == label], label)"
   ]
  },
  {
   "cell_type": "code",
   "execution_count": 4,
   "metadata": {
    "collapsed": false
   },
   "outputs": [],
   "source": [
    "n_classes = 43\n",
    "image_shape = [32, 32]\n",
    "from sklearn.utils import shuffle\n",
    "import numpy as np\n",
    "import pickle\n",
    "\n",
    "num_examples_per_class = 1000\n",
    "X_train_subset = np.ndarray((n_classes*num_examples_per_class,\n",
    "                           image_shape[0], image_shape[1]))\n",
    "y_train_subset = np.ndarray(n_classes*num_examples_per_class)\n",
    "\n",
    "for label in range(n_classes):\n",
    "    pickle_file = 'label' + str(label) + '.pickle'\n",
    "    try:\n",
    "        with open(pickle_file, 'rb') as f:\n",
    "            data = pickle.load(f)\n",
    "            dataset = data['dataset']\n",
    "            idx_array = np.arange(dataset.shape[0])\n",
    "            np.random.shuffle(idx_array)\n",
    "            for i in range(num_examples_per_class):\n",
    "                X_train_subset[label*num_examples_per_class+i, :, :] = dataset[idx_array[i], :, :]\n",
    "                y_train_subset[label*num_examples_per_class+i] = label\n",
    "    except Exception as e:\n",
    "        print('Unable to process data from', pickle_file, ':', e)\n",
    "        raise\n",
    "        \n",
    "X_train_subset, y_train_subset = shuffle(X_train_subset, y_train_subset)"
   ]
  },
  {
   "cell_type": "code",
   "execution_count": 8,
   "metadata": {
    "collapsed": false
   },
   "outputs": [
    {
     "name": "stdout",
     "output_type": "stream",
     "text": [
      "(43000, 32, 32) (43000,)\n",
      "41.0\n",
      "1.0 8.09893216827e-06 0.0235314669831 0.0290397136823\n"
     ]
    },
    {
     "data": {
      "image/png": "[encoded data removed]",
      "text/plain": [
       "<matplotlib.figure.Figure at 0x1a69322f780>"
      ]
     },
     "metadata": {},
     "output_type": "display_data"
    }
   ],
   "source": [
    "print(X_train_subset.shape, y_train_subset.shape)\n",
    "\n",
    "print(y_train_subset[1])\n",
    "\n",
    "plt.imshow(X_train_subset[1, :, :], cmap='gray')\n",
    "\n",
    "print(X_train_subset.max(), X_train_subset.min(), np.mean(X_train_subset[1, :, :]), np.std(X_train_subset[1, :, :]))"
   ]
  },
  {
   "cell_type": "code",
   "execution_count": 7,
   "metadata": {
    "collapsed": false
   },
   "outputs": [
    {
     "name": "stdout",
     "output_type": "stream",
     "text": [
      "(4300, 32, 32, 3)\n"
     ]
    }
   ],
   "source": [
    "break\n",
    "X_train_subset = np.zeros((n_classes*100, image_shape[0], image_shape[1], image_shape[2]), dtype=np.uint8)\n",
    "y_train_subset = np.zeros(n_classes*100)\n",
    "\n",
    "for label in np.unique(y_train):\n",
    "    img_subset = X_train[y_train == label]\n",
    "    idx_array = np.arange(img_subset.shape[0])\n",
    "    np.random.shuffle(idx_array)\n",
    "    for i in range(100):\n",
    "        X_train_subset[label*100+i, :, :, :] = img_subset[idx_array[i], :, :, :]\n",
    "        y_train_subset[label*100+i] = label\n",
    "print(X_train_subset.shape)"
   ]
  },
  {
   "cell_type": "code",
   "execution_count": 8,
   "metadata": {
    "collapsed": false
   },
   "outputs": [
    {
     "name": "stdout",
     "output_type": "stream",
     "text": [
      "(12900, 32, 32)\n",
      "(38700, 32, 32) (38700,)\n"
     ]
    }
   ],
   "source": [
    "break\n",
    "### Generate data additional data (OPTIONAL!)\n",
    "### and split the data into training/validation/testing sets here.\n",
    "### Feel free to use as many code cells as needed.\n",
    "\n",
    "# Rotate +15 degrees:\n",
    "prep_X_train = preprocess(X_train_subset)\n",
    "pos_rot_X_train = np.zeros_like(prep_X_train)\n",
    "_,rows,cols = prep_X_train.shape\n",
    "M = cv2.getRotationMatrix2D((cols/2,rows/2),15,1.2)\n",
    "for i in range(prep_X_train.shape[0]):\n",
    "    img = prep_X_train[i, :, :]\n",
    "    pos_rot_X_train[i, :, :] = cv2.warpAffine(img,M,(cols,rows))\n",
    "\n",
    "# Rotate -15 degrees:\n",
    "neg_rot_X_train = np.zeros_like(prep_X_train)\n",
    "M = cv2.getRotationMatrix2D((cols/2,rows/2),-15,1.2)\n",
    "for i in range(prep_X_train.shape[0]):\n",
    "    img = prep_X_train[i, :, :]\n",
    "    neg_rot_X_train[i, :, :] = cv2.warpAffine(img,M,(cols,rows))\n",
    "\n",
    "prep_X_train = np.concatenate((prep_X_train, pos_rot_X_train, neg_rot_X_train))\n",
    "prep_y_train = np.concatenate((y_train_subset, y_train_subset, y_train_subset))\n",
    "\n",
    "print(prep_X_train.shape)\n",
    "\n",
    "# Gamma compression and expanssion:\n",
    "gamma = 0.4\n",
    "comp_gamma_X_train = prep_X_train**(gamma)\n",
    "exp_gamma_X_train = prep_X_train**(1./gamma)\n",
    "\n",
    "prep_X_train = np.concatenate((prep_X_train, comp_gamma_X_train, exp_gamma_X_train))\n",
    "prep_y_train = np.concatenate((prep_y_train, prep_y_train, prep_y_train))\n",
    "\n",
    "print(prep_X_train.shape, prep_y_train.shape)"
   ]
  },
  {
   "cell_type": "code",
   "execution_count": 8,
   "metadata": {
    "collapsed": false
   },
   "outputs": [
    {
     "name": "stdout",
     "output_type": "stream",
     "text": [
      "(116100, 32, 32)\n"
     ]
    }
   ],
   "source": [
    "break\n",
    "# Add Gaussian noise:\n",
    "mu = 0.5\n",
    "sigma = 0.05\n",
    "noise = np.random.randn(prep_X_train.shape[0], prep_X_train.shape[1], prep_X_train.shape[2])*sigma + mu\n",
    "prep_X_train_n = prep_X_train + noise\n",
    "\n",
    "prep_X_train = np.concatenate((prep_X_train, prep_X_train_n))\n",
    "prep_y_train = np.concatenate((prep_y_train, prep_y_train))\n",
    "\n",
    "print(prep_X_train.shape)"
   ]
  },
  {
   "cell_type": "code",
   "execution_count": 9,
   "metadata": {
    "collapsed": false
   },
   "outputs": [],
   "source": [
    "from sklearn.utils import shuffle\n",
    "\n",
    "prep_X_train, prep_y_train = shuffle(prep_X_train, prep_y_train)"
   ]
  },
  {
   "cell_type": "code",
   "execution_count": 10,
   "metadata": {
    "collapsed": false
   },
   "outputs": [
    {
     "name": "stdout",
     "output_type": "stream",
     "text": [
      "(38700, 32, 32, 1) (38700, 43)\n"
     ]
    }
   ],
   "source": [
    "prep_X_train = np.reshape(prep_X_train, (prep_X_train.shape[0], prep_X_train.shape[1], prep_X_train.shape[2], 1))\n",
    "\n",
    "# One-Hot Enconding:\n",
    "from sklearn.preprocessing import LabelBinarizer\n",
    "\n",
    "lb = LabelBinarizer()\n",
    "prep_y_train = lb.fit_transform(prep_y_train)\n",
    "\n",
    "print(prep_X_train.shape, prep_y_train.shape)"
   ]
  },
  {
   "cell_type": "markdown",
   "metadata": {},
   "source": [
    "### Question 2\n",
    "\n",
    "_Describe how you set up the training, validation and testing data for your model. **Optional**: If you generated additional data, how did you generate the data? Why did you generate the data? What are the differences in the new dataset (with generated data) from the original dataset?_"
   ]
  },
  {
   "cell_type": "markdown",
   "metadata": {},
   "source": [
    "**Answer:**"
   ]
  },
  {
   "cell_type": "code",
   "execution_count": 11,
   "metadata": {
    "collapsed": true
   },
   "outputs": [],
   "source": [
    "### Define your architecture here.\n",
    "### Feel free to use as many code cells as needed.\n",
    "from tensorflow.contrib.layers import flatten\n",
    "\n",
    "def conv2d(x, W, b, strides=1):\n",
    "    # Conv2D wrapper, with bias and relu activation\n",
    "    x = tf.nn.conv2d(x, W, strides=[1, strides, strides, 1], padding='VALID')\n",
    "    x = tf.nn.bias_add(x, b)\n",
    "    return x\n",
    "\n",
    "def maxpool2d(x, k=2):\n",
    "    return tf.nn.max_pool( x, ksize=[1, k, k, 1],\n",
    "        strides=[1, k, k, 1], padding='SAME')\n",
    "\n",
    "def LeNet(x, weights, biases):\n",
    "    \n",
    "    # Convolution layer 1 - 32*32*1 to 28*28*6\n",
    "    conv1 = conv2d(x, weights['layer_1'], biases['layer_1'])\n",
    "    # ReLu activation function\n",
    "    conv1 = tf.nn.relu(conv1)\n",
    "    # Pooling layer 1 - 28*28*6 to 14*14*6\n",
    "    conv1 = maxpool2d(conv1)\n",
    "    \n",
    "    # Convolution layer 2 - 14*14*6 to 10*10*16\n",
    "    conv2 = conv2d(conv1, weights['layer_2'], biases['layer_2'])\n",
    "    # ReLu activation function\n",
    "    conv2 = tf.nn.relu(conv2)\n",
    "    # Pooling layer 1 - 10*10*16 to 5*5*16\n",
    "    conv2 = maxpool2d(conv2)\n",
    "    \n",
    "    # Flatten layer\n",
    "    fc1 = flatten(conv2)\n",
    "    # 1st Fully connected layer - 5*5*16 to 120\n",
    "    fc1 = tf.add(tf.matmul(fc1, weights['fully_connected']), biases['fully_connected'])\n",
    "    # ReLu activation function\n",
    "    fc1 = tf.nn.relu(fc1)\n",
    "    \n",
    "    # 2nd and final fully connected layer - 120 to 43\n",
    "    out = tf.add(tf.matmul(fc1, weights['out']), biases['out'])\n",
    "    \n",
    "    return out"
   ]
  },
  {
   "cell_type": "markdown",
   "metadata": {},
   "source": [
    "### Question 3\n",
    "\n",
    "_What does your final architecture look like? (Type of model, layers, sizes, connectivity, etc.)  For reference on how to build a deep neural network using TensorFlow, see [Deep Neural Network in TensorFlow\n",
    "](https://classroom.udacity.com/nanodegrees/nd013/parts/fbf77062-5703-404e-b60c-95b78b2f3f9e/modules/6df7ae49-c61c-4bb2-a23e-6527e69209ec/lessons/b516a270-8600-4f93-a0a3-20dfeabe5da6/concepts/83a3a2a2-a9bd-4b7b-95b0-eb924ab14432) from the classroom._\n"
   ]
  },
  {
   "cell_type": "markdown",
   "metadata": {},
   "source": [
    "**Answer:**"
   ]
  },
  {
   "cell_type": "code",
   "execution_count": 18,
   "metadata": {
    "collapsed": false
   },
   "outputs": [],
   "source": [
    "### Train your model here.\n",
    "### Feel free to use as many code cells as needed.\n",
    "import tensorflow as tf\n",
    "\n",
    "EPOCHS = 5\n",
    "BATCH_SIZE = 50\n",
    "\n",
    "layer_width = {\n",
    "    'layer_1': 6,\n",
    "    'layer_2': 16,\n",
    "    'fully_connected': 120 }\n",
    "    \n",
    "weights = {\n",
    "    'layer_1': tf.Variable(tf.truncated_normal(\n",
    "            [5, 5, 1, layer_width['layer_1']])),\n",
    "    'layer_2': tf.Variable(tf.truncated_normal(\n",
    "            [5, 5, layer_width['layer_1'], layer_width['layer_2']])),\n",
    "    'fully_connected': tf.Variable(tf.truncated_normal(\n",
    "            [5*5*16, layer_width['fully_connected']])),\n",
    "    'out': tf.Variable(tf.truncated_normal(\n",
    "            [layer_width['fully_connected'], n_classes])) }\n",
    "\n",
    "biases = {\n",
    "    'layer_1': tf.Variable(tf.zeros(layer_width['layer_1'])),\n",
    "    'layer_2': tf.Variable(tf.zeros(layer_width['layer_2'])),\n",
    "    'fully_connected': tf.Variable(tf.zeros(layer_width['fully_connected'])),\n",
    "    'out': tf.Variable(tf.zeros(n_classes)) }\n",
    "\n",
    "x = tf.placeholder(tf.float32, (None, 32, 32, 1))\n",
    "y = tf.placeholder(tf.float32, (None, n_classes))\n",
    "\n",
    "fc2 = LeNet(x, weights, biases)\n",
    "\n",
    "loss_op = tf.reduce_mean(tf.nn.softmax_cross_entropy_with_logits(fc2, y))\n",
    "opt = tf.train.AdamOptimizer()\n",
    "train_op = opt.minimize(loss_op)\n",
    "correct_prediction = tf.equal(tf.argmax(fc2, 1), tf.argmax(y, 1))\n",
    "accuracy_op = tf.reduce_mean(tf.cast(correct_prediction, tf.float32))"
   ]
  },
  {
   "cell_type": "code",
   "execution_count": 16,
   "metadata": {
    "collapsed": true
   },
   "outputs": [],
   "source": [
    "def evaluate(X_data, y_data):\n",
    "    X_data = preprocess(X_data)\n",
    "    X_data = np.reshape(X_data, (X_data.shape[0], X_data.shape[1], X_data.shape[2], 1))\n",
    "    lb = LabelBinarizer()\n",
    "    y_data = lb.fit_transform(y_data)\n",
    "    num_examples = len(X_data)\n",
    "    total_accuracy = 0\n",
    "    sess = tf.get_default_session()\n",
    "    for offset in range(0, num_examples, BATCH_SIZE):\n",
    "        batch_x, batch_y = X_data[offset:offset+BATCH_SIZE], y_data[offset:offset+BATCH_SIZE]\n",
    "        accuracy = sess.run(accuracy_op, feed_dict={x: batch_x, y: batch_y})\n",
    "        total_accuracy += (accuracy * len(batch_x))\n",
    "    return total_accuracy / num_examples"
   ]
  },
  {
   "cell_type": "code",
   "execution_count": 19,
   "metadata": {
    "collapsed": false
   },
   "outputs": [
    {
     "name": "stdout",
     "output_type": "stream",
     "text": [
      "Training...\n",
      "\n",
      "EPOCH 1 ...\n",
      "Validation Accuracy = 0.013\n",
      "\n",
      "EPOCH 2 ...\n",
      "Validation Accuracy = 0.013\n",
      "\n",
      "EPOCH 3 ...\n",
      "Validation Accuracy = 0.013\n",
      "\n",
      "EPOCH 4 ...\n",
      "Validation Accuracy = 0.015\n",
      "\n",
      "EPOCH 5 ...\n",
      "Validation Accuracy = 0.018\n",
      "\n"
     ]
    }
   ],
   "source": [
    "with tf.Session() as sess:\n",
    "    sess.run(tf.global_variables_initializer())\n",
    "    \n",
    "    print(\"Training...\")\n",
    "    print()\n",
    "    for i in range(EPOCHS):\n",
    "        sess.run(train_op, feed_dict={x: prep_X_train, y: prep_y_train})\n",
    "        \n",
    "        validation_accuracy = evaluate(X_test, y_test)\n",
    "        print(\"EPOCH {} ...\".format(i+1))\n",
    "        print(\"Validation Accuracy = {:.3f}\".format(validation_accuracy))\n",
    "        print()\n",
    "    \n",
    "    #try:\n",
    "    #    saver\n",
    "    #except NameError:\n",
    "    #    saver = tf.train.Saver()\n",
    "    #saver.save(sess, 'lenet')\n",
    "    #print(\"Model saved\")"
   ]
  },
  {
   "cell_type": "markdown",
   "metadata": {},
   "source": [
    "### Question 4\n",
    "\n",
    "_How did you train your model? (Type of optimizer, batch size, epochs, hyperparameters, etc.)_\n"
   ]
  },
  {
   "cell_type": "markdown",
   "metadata": {},
   "source": [
    "**Answer:**"
   ]
  },
  {
   "cell_type": "markdown",
   "metadata": {},
   "source": [
    "### Question 5\n",
    "\n",
    "\n",
    "_What approach did you take in coming up with a solution to this problem? It may have been a process of trial and error, in which case, outline the steps you took to get to the final solution and why you chose those steps. Perhaps your solution involved an already well known implementation or architecture. In this case, discuss why you think this is suitable for the current problem._"
   ]
  },
  {
   "cell_type": "markdown",
   "metadata": {},
   "source": [
    "**Answer:**"
   ]
  },
  {
   "cell_type": "markdown",
   "metadata": {},
   "source": [
    "---\n",
    "\n",
    "## Step 3: Test a Model on New Images\n",
    "\n",
    "Take several pictures of traffic signs that you find on the web or around you (at least five), and run them through your classifier on your computer to produce example results. The classifier might not recognize some local signs but it could prove interesting nonetheless.\n",
    "\n",
    "You may find `signnames.csv` useful as it contains mappings from the class id (integer) to the actual sign name."
   ]
  },
  {
   "cell_type": "markdown",
   "metadata": {},
   "source": [
    "### Implementation\n",
    "\n",
    "Use the code cell (or multiple code cells, if necessary) to implement the first step of your project. Once you have completed your implementation and are satisfied with the results, be sure to thoroughly answer the questions that follow."
   ]
  },
  {
   "cell_type": "code",
   "execution_count": null,
   "metadata": {
    "collapsed": true
   },
   "outputs": [],
   "source": [
    "### Load the images and plot them here.\n",
    "### Feel free to use as many code cells as needed."
   ]
  },
  {
   "cell_type": "markdown",
   "metadata": {},
   "source": [
    "### Question 6\n",
    "\n",
    "_Choose five candidate images of traffic signs and provide them in the report. Are there any particular qualities of the image(s) that might make classification difficult? It could be helpful to plot the images in the notebook._\n",
    "\n"
   ]
  },
  {
   "cell_type": "markdown",
   "metadata": {},
   "source": [
    "**Answer:**"
   ]
  },
  {
   "cell_type": "code",
   "execution_count": null,
   "metadata": {
    "collapsed": true
   },
   "outputs": [],
   "source": [
    "### Run the predictions here.\n",
    "### Feel free to use as many code cells as needed."
   ]
  },
  {
   "cell_type": "markdown",
   "metadata": {},
   "source": [
    "### Question 7\n",
    "\n",
    "_Is your model able to perform equally well on captured pictures when compared to testing on the dataset? The simplest way to do this check the accuracy of the predictions. For example, if the model predicted 1 out of 5 signs correctly, it's 20% accurate._\n",
    "\n",
    "_**NOTE:** You could check the accuracy manually by using `signnames.csv` (same directory). This file has a mapping from the class id (0-42) to the corresponding sign name. So, you could take the class id the model outputs, lookup the name in `signnames.csv` and see if it matches the sign from the image._\n"
   ]
  },
  {
   "cell_type": "markdown",
   "metadata": {},
   "source": [
    "**Answer:**"
   ]
  },
  {
   "cell_type": "code",
   "execution_count": null,
   "metadata": {
    "collapsed": true
   },
   "outputs": [],
   "source": [
    "### Visualize the softmax probabilities here.\n",
    "### Feel free to use as many code cells as needed."
   ]
  },
  {
   "cell_type": "markdown",
   "metadata": {},
   "source": [
    "### Question 8\n",
    "\n",
    "*Use the model's softmax probabilities to visualize the **certainty** of its predictions, [`tf.nn.top_k`](https://www.tensorflow.org/versions/r0.12/api_docs/python/nn.html#top_k) could prove helpful here. Which predictions is the model certain of? Uncertain? If the model was incorrect in its initial prediction, does the correct prediction appear in the top k? (k should be 5 at most)*\n",
    "\n",
    "`tf.nn.top_k` will return the values and indices (class ids) of the top k predictions. So if k=3, for each sign, it'll return the 3 largest probabilities (out of a possible 43) and the correspoding class ids.\n",
    "\n",
    "Take this numpy array as an example:\n",
    "\n",
    "```\n",
    "# (5, 6) array\n",
    "a = np.array([[ 0.24879643,  0.07032244,  0.12641572,  0.34763842,  0.07893497,\n",
    "         0.12789202],\n",
    "       [ 0.28086119,  0.27569815,  0.08594638,  0.0178669 ,  0.18063401,\n",
    "         0.15899337],\n",
    "       [ 0.26076848,  0.23664738,  0.08020603,  0.07001922,  0.1134371 ,\n",
    "         0.23892179],\n",
    "       [ 0.11943333,  0.29198961,  0.02605103,  0.26234032,  0.1351348 ,\n",
    "         0.16505091],\n",
    "       [ 0.09561176,  0.34396535,  0.0643941 ,  0.16240774,  0.24206137,\n",
    "         0.09155967]])\n",
    "```\n",
    "\n",
    "Running it through `sess.run(tf.nn.top_k(tf.constant(a), k=3))` produces:\n",
    "\n",
    "```\n",
    "TopKV2(values=array([[ 0.34763842,  0.24879643,  0.12789202],\n",
    "       [ 0.28086119,  0.27569815,  0.18063401],\n",
    "       [ 0.26076848,  0.23892179,  0.23664738],\n",
    "       [ 0.29198961,  0.26234032,  0.16505091],\n",
    "       [ 0.34396535,  0.24206137,  0.16240774]]), indices=array([[3, 0, 5],\n",
    "       [0, 1, 4],\n",
    "       [0, 5, 1],\n",
    "       [1, 3, 5],\n",
    "       [1, 4, 3]], dtype=int32))\n",
    "```\n",
    "\n",
    "Looking just at the first row we get `[ 0.34763842,  0.24879643,  0.12789202]`, you can confirm these are the 3 largest probabilities in `a`. You'll also notice `[3, 0, 5]` are the corresponding indices."
   ]
  },
  {
   "cell_type": "markdown",
   "metadata": {},
   "source": [
    "**Answer:**"
   ]
  },
  {
   "cell_type": "markdown",
   "metadata": {},
   "source": [
    "> **Note**: Once you have completed all of the code implementations and successfully answered each question above, you may finalize your work by exporting the iPython Notebook as an HTML document. You can do this by using the menu above and navigating to  \\n\",\n",
    "    \"**File -> Download as -> HTML (.html)**. Include the finished document along with this notebook as your submission."
   ]
  },
  {
   "cell_type": "code",
   "execution_count": null,
   "metadata": {
    "collapsed": true
   },
   "outputs": [],
   "source": []
  }
 ],
 "metadata": {
  "anaconda-cloud": {},
  "kernelspec": {
   "display_name": "Python 3",
   "language": "python",
   "name": "python3"
  },
  "language_info": {
   "codemirror_mode": {
    "name": "ipython",
    "version": 3
   },
   "file_extension": ".py",
   "mimetype": "text/x-python",
   "name": "python",
   "nbconvert_exporter": "python",
   "pygments_lexer": "ipython3",
   "version": "3.5.2"
  },
  "widgets": {
   "state": {},
   "version": "1.1.2"
  }
 },
 "nbformat": 4,
 "nbformat_minor": 1
}
